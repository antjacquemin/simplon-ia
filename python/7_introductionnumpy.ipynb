{
 "metadata": {
  "language_info": {
   "codemirror_mode": {
    "name": "ipython",
    "version": 3
   },
   "file_extension": ".py",
   "mimetype": "text/x-python",
   "name": "python",
   "nbconvert_exporter": "python",
   "pygments_lexer": "ipython3",
   "version": "3.8.3"
  },
  "orig_nbformat": 2,
  "kernelspec": {
   "name": "python383jvsc74a57bd0fd717aed4d297ff577773099012b06c7b2456110d9c1e279782c91d951b3636b",
   "display_name": "Python 3.8.3 64-bit ('base': conda)"
  }
 },
 "nbformat": 4,
 "nbformat_minor": 2,
 "cells": [
  {
   "source": [
    "## Importation des bibliothèques"
   ],
   "cell_type": "markdown",
   "metadata": {}
  },
  {
   "cell_type": "code",
   "execution_count": 2,
   "metadata": {},
   "outputs": [],
   "source": [
    "import pandas as pd"
   ]
  },
  {
   "source": [
    "## Lecture et aperçu du fichier"
   ],
   "cell_type": "markdown",
   "metadata": {}
  },
  {
   "cell_type": "code",
   "execution_count": 3,
   "metadata": {},
   "outputs": [
    {
     "output_type": "execute_result",
     "data": {
      "text/plain": [
       "   Year       WHO region                Country Beverage Types  Display Value\n",
       "0  1986  Western Pacific               Viet Nam           Wine           0.00\n",
       "1  1986         Americas                Uruguay          Other           0.50\n",
       "2  1985           Africa           Cte d'Ivoire           Wine           1.62\n",
       "3  1986         Americas               Colombia           Beer           4.27\n",
       "4  1987         Americas  Saint Kitts and Nevis           Beer           1.98"
      ],
      "text/html": "<div>\n<style scoped>\n    .dataframe tbody tr th:only-of-type {\n        vertical-align: middle;\n    }\n\n    .dataframe tbody tr th {\n        vertical-align: top;\n    }\n\n    .dataframe thead th {\n        text-align: right;\n    }\n</style>\n<table border=\"1\" class=\"dataframe\">\n  <thead>\n    <tr style=\"text-align: right;\">\n      <th></th>\n      <th>Year</th>\n      <th>WHO region</th>\n      <th>Country</th>\n      <th>Beverage Types</th>\n      <th>Display Value</th>\n    </tr>\n  </thead>\n  <tbody>\n    <tr>\n      <th>0</th>\n      <td>1986</td>\n      <td>Western Pacific</td>\n      <td>Viet Nam</td>\n      <td>Wine</td>\n      <td>0.00</td>\n    </tr>\n    <tr>\n      <th>1</th>\n      <td>1986</td>\n      <td>Americas</td>\n      <td>Uruguay</td>\n      <td>Other</td>\n      <td>0.50</td>\n    </tr>\n    <tr>\n      <th>2</th>\n      <td>1985</td>\n      <td>Africa</td>\n      <td>Cte d'Ivoire</td>\n      <td>Wine</td>\n      <td>1.62</td>\n    </tr>\n    <tr>\n      <th>3</th>\n      <td>1986</td>\n      <td>Americas</td>\n      <td>Colombia</td>\n      <td>Beer</td>\n      <td>4.27</td>\n    </tr>\n    <tr>\n      <th>4</th>\n      <td>1987</td>\n      <td>Americas</td>\n      <td>Saint Kitts and Nevis</td>\n      <td>Beer</td>\n      <td>1.98</td>\n    </tr>\n  </tbody>\n</table>\n</div>"
     },
     "metadata": {},
     "execution_count": 3
    }
   ],
   "source": [
    "donnees = pd.read_csv(\"world_alcohol.csv\")\n",
    "donnees.head()"
   ]
  },
  {
   "cell_type": "code",
   "execution_count": 4,
   "metadata": {},
   "outputs": [
    {
     "output_type": "stream",
     "name": "stdout",
     "text": [
      "Le jeu de données a 3257 lignes avec 5 variables\n"
     ]
    }
   ],
   "source": [
    "print(\"Le jeu de données a\", donnees.shape[0], \"lignes avec\", donnees.shape[1], \"variables\")"
   ]
  },
  {
   "cell_type": "code",
   "execution_count": 6,
   "metadata": {},
   "outputs": [
    {
     "output_type": "execute_result",
     "data": {
      "text/plain": [
       "Year                0\n",
       "WHO region          0\n",
       "Country             0\n",
       "Beverage Types      0\n",
       "Display Value     222\n",
       "dtype: int64"
      ]
     },
     "metadata": {},
     "execution_count": 6
    }
   ],
   "source": [
    "donnees.isna().sum()"
   ]
  },
  {
   "cell_type": "code",
   "execution_count": 7,
   "metadata": {},
   "outputs": [
    {
     "output_type": "execute_result",
     "data": {
      "text/plain": [
       "0"
      ]
     },
     "metadata": {},
     "execution_count": 7
    }
   ],
   "source": [
    "donnees.duplicated().sum()"
   ]
  },
  {
   "source": [
    "Pas de doublon mais des valeurs manquantes pour Display Value"
   ],
   "cell_type": "markdown",
   "metadata": {}
  },
  {
   "source": [
    "## Consommation pour chaque pays"
   ],
   "cell_type": "markdown",
   "metadata": {}
  },
  {
   "cell_type": "code",
   "execution_count": 18,
   "metadata": {},
   "outputs": [
    {
     "output_type": "stream",
     "name": "stdout",
     "text": [
      "{'Viet Nam': 0.16, 'Uruguay': 7.44, \"Cte d'Ivoire\": 2.2, 'Colombia': 6.96, 'Saint Kitts and Nevis': 4.65, 'Guatemala': 2.47, 'Mauritius': 3.54, 'Angola': 2.28, 'Antigua and Barbuda': 4.69, 'Nigeria': 6.74, 'Botswana': 4.63, \"Lao People's Democratic Republic\": 5.95, 'Afghanistan': 0.0, 'Guinea-Bissau': 2.67, 'Costa Rica': 5.4, 'Seychelles': 3.3, 'Norway': 5.08, 'Kenya': 2.82, 'Myanmar': 0.16, 'Romania': 8.41, 'Turkey': 0.72, 'Comoros': 0.11, 'Tunisia': 0.95, 'United Kingdom of Great Britain and Northern Ireland': 9.99, 'Bahrain': 4.89, 'Italy': 10.9, 'Sierra Leone': 4.38, 'Micronesia (Federated States of)': 0.0, 'Mauritania': 0.02, 'Russian Federation': 5.35, 'Egypt': 0.42, 'Sweden': 7.47, 'Qatar': 1.45, 'Burkina Faso': 3.99, 'Austria': 13.9, 'Czech Republic': 13.01, 'Ukraine': 5.32, 'China': 3.33, 'Lithuania': 0.0, 'Zimbabwe': 4.92, 'Trinidad and Tobago': 4.68, 'Mexico': 5.1, 'Nicaragua': 2.5, 'Malta': 7.13, 'Switzerland': 13.85, 'Finland': 9.42, 'Saudi Arabia': 0.15, 'Kuwait': 0.0, 'El Salvador': 1.77, 'Suriname': 3.67, 'Croatia': 10.92, 'Somalia': 0.0, 'Syrian Arab Republic': 0.54, 'Iran (Islamic Republic of)': 0.0, 'Papua New Guinea': 1.11, 'Libya': 0.0, 'Bolivia (Plurinational State of)': 3.05, 'Iraq': 0.75, 'Namibia': 0.24, 'Uganda': 7.8, 'Togo': 2.22, 'Madagascar': 1.38, 'Mali': 0.67, 'Pakistan': 0.02, 'Cameroon': 6.36, 'Jamaica': 3.03, 'Malawi': 1.02, 'Netherlands': 10.03, 'Ireland': 11.79, 'Sri Lanka': 0.14, 'Democratic Republic of the Congo': 1.92, 'Bahamas': 12.29, 'Lebanon': 3.94, 'Bulgaria': 11.43, 'Eritrea': 0.29, 'Niger': 0.11, 'Luxembourg': 15.21, 'Indonesia': 0.07, 'Equatorial Guinea': 6.49, \"Democratic People's Republic of Korea\": 3.68, 'Chile': 8.65, 'Central African Republic': 2.52, 'Spain': 13.28, 'Gambia': 1.63, 'Ghana': 1.86, 'Brazil': 5.52, 'Portugal': 15.35, 'Burundi': 8.16, 'Belgium': 11.61, 'Paraguay': 6.51, 'Hungary': 16.29, 'Greece': 10.15, 'India': 1.66, 'Kyrgyzstan': 4.28, 'France': 16.05, 'Zambia': 3.37, 'Israel': 2.03, 'Swaziland': 6.68, 'Canada': 9.0, 'Cambodia': 0.33, 'Cabo Verde': 2.79, 'United Arab Emirates': 4.43, 'Peru': 4.99, 'Solomon Islands': 0.58, 'United Republic of Tanzania': 5.9, 'Chad': 0.3, 'Cuba': 4.37, 'Guyana': 9.94, 'Mongolia': 2.59, 'Australia': 12.09, 'Sao Tome and Principe': 2.57, 'Slovenia': 12.97, 'Benin': 1.38, 'Algeria': 0.4, 'Venezuela (Bolivarian Republic of)': 7.87, 'Ecuador': 2.54, 'Iceland': 5.36, 'Liberia': 5.61, 'Yemen': 0.2, 'Sudan': 0.15, 'Belarus': 7.98, 'Cyprus': 9.29, 'United States of America': 9.16, 'Vanuatu': 1.74, 'Bangladesh': 0.0, 'Philippines': 3.78, 'Slovakia': 12.7, 'Poland': 9.33, 'Senegal': 0.61, 'Honduras': 2.15, 'Bhutan': 0.31, 'Fiji': 1.96, 'Belize': 0.0, 'Lesotho': 2.02, 'Singapore': 1.61, 'Guinea': 0.21, 'Brunei Darussalam': 2.78, 'Congo': 3.15, 'Thailand': 3.92, 'Djibouti': 0.87, 'Gabon': 9.34, 'Dominican Republic': 4.53, 'Morocco': 0.7, 'New Zealand': 11.52, 'Denmark': 11.65, 'Samoa': 2.63, 'Argentina': 10.82, 'Oman': 1.03, 'Kiribati': 0.48, 'Albania': 1.73, 'Nepal': 0.03, 'Malaysia': 0.68, 'Latvia': 7.04, 'Haiti': 5.81, 'South Africa': 9.21, 'Republic of Korea': 9.62, 'Japan': 7.74, 'Mozambique': 0.39, 'Ethiopia': 0.86, 'Panama': 4.6, 'Germany': 14.64, 'Saint Lucia': 11.62, 'Rwanda': 7.55, 'Jordan': 0.19}\n"
     ]
    }
   ],
   "source": [
    "consommation = {}\n",
    "donnees1989 = donnees.loc[donnees[\"Year\"] == 1989, :]\n",
    "countries = donnees.Country.unique()\n",
    "for country in countries:\n",
    "    country_consumption = round(donnees1989[donnees1989[\"Country\"] == country][\"Display Value\"].fillna(0).sum(), 2)\n",
    "    consommation[country] = country_consumption\n",
    "print(consommation)"
   ]
  },
  {
   "source": [
    "## Pays qui consomme le plus d'alcool"
   ],
   "cell_type": "markdown",
   "metadata": {}
  },
  {
   "cell_type": "code",
   "execution_count": 20,
   "metadata": {},
   "outputs": [
    {
     "output_type": "execute_result",
     "data": {
      "text/plain": [
       "'Hungary'"
      ]
     },
     "metadata": {},
     "execution_count": 20
    }
   ],
   "source": [
    "highest_value = 0\n",
    "highest_key = None\n",
    "for country, consumption in consommation.items():\n",
    "    if consumption > highest_value:\n",
    "        highest_value = consumption\n",
    "        highest_key = country\n",
    "highest_key"
   ]
  },
  {
   "cell_type": "code",
   "execution_count": 25,
   "metadata": {},
   "outputs": [
    {
     "output_type": "execute_result",
     "data": {
      "text/plain": [
       "'Hungary'"
      ]
     },
     "metadata": {},
     "execution_count": 25
    }
   ],
   "source": [
    "# En plus court\n",
    "inverse = [(value, key) for key, value in consommation.items()]\n",
    "max(inverse)[1]"
   ]
  },
  {
   "cell_type": "code",
   "execution_count": 22,
   "metadata": {},
   "outputs": [
    {
     "output_type": "execute_result",
     "data": {
      "text/plain": [
       "'Hungary'"
      ]
     },
     "metadata": {},
     "execution_count": 22
    }
   ],
   "source": [
    "# En plus court et plus performant\n",
    "import operator\n",
    "max(consommation.items(), key=operator.itemgetter(1))[0]"
   ]
  },
  {
   "cell_type": "code",
   "execution_count": 27,
   "metadata": {},
   "outputs": [
    {
     "output_type": "execute_result",
     "data": {
      "text/plain": [
       "{'Viet Nam': 0.16,\n",
       " 'Uruguay': 7.44,\n",
       " \"Cte d'Ivoire\": 2.2,\n",
       " 'Colombia': 6.96,\n",
       " 'Saint Kitts and Nevis': 4.65,\n",
       " 'Guatemala': 2.47,\n",
       " 'Mauritius': 3.54,\n",
       " 'Angola': 2.28,\n",
       " 'Antigua and Barbuda': 4.69,\n",
       " 'Nigeria': 6.74,\n",
       " 'Botswana': 4.63,\n",
       " \"Lao People's Democratic Republic\": 5.95,\n",
       " 'Afghanistan': 0.0,\n",
       " 'Guinea-Bissau': 2.67,\n",
       " 'Costa Rica': 5.4,\n",
       " 'Seychelles': 3.3,\n",
       " 'Norway': 5.08,\n",
       " 'Kenya': 2.82,\n",
       " 'Myanmar': 0.16,\n",
       " 'Romania': 8.41,\n",
       " 'Turkey': 0.72,\n",
       " 'Comoros': 0.11,\n",
       " 'Tunisia': 0.95,\n",
       " 'United Kingdom of Great Britain and Northern Ireland': 9.99,\n",
       " 'Bahrain': 4.89,\n",
       " 'Italy': 10.9,\n",
       " 'Sierra Leone': 4.38,\n",
       " 'Micronesia (Federated States of)': 0.0,\n",
       " 'Mauritania': 0.02,\n",
       " 'Russian Federation': 5.35,\n",
       " 'Egypt': 0.42,\n",
       " 'Sweden': 7.47,\n",
       " 'Qatar': 1.45,\n",
       " 'Burkina Faso': 3.99,\n",
       " 'Austria': 13.9,\n",
       " 'Czech Republic': 13.01,\n",
       " 'Ukraine': 5.32,\n",
       " 'China': 3.33,\n",
       " 'Lithuania': 0.0,\n",
       " 'Zimbabwe': 4.92,\n",
       " 'Trinidad and Tobago': 4.68,\n",
       " 'Mexico': 5.1,\n",
       " 'Nicaragua': 2.5,\n",
       " 'Malta': 7.13,\n",
       " 'Switzerland': 13.85,\n",
       " 'Finland': 9.42,\n",
       " 'Saudi Arabia': 0.15,\n",
       " 'Kuwait': 0.0,\n",
       " 'El Salvador': 1.77,\n",
       " 'Suriname': 3.67,\n",
       " 'Croatia': 10.92,\n",
       " 'Somalia': 0.0,\n",
       " 'Syrian Arab Republic': 0.54,\n",
       " 'Iran (Islamic Republic of)': 0.0,\n",
       " 'Papua New Guinea': 1.11,\n",
       " 'Libya': 0.0,\n",
       " 'Bolivia (Plurinational State of)': 3.05,\n",
       " 'Iraq': 0.75,\n",
       " 'Namibia': 0.24,\n",
       " 'Uganda': 7.8,\n",
       " 'Togo': 2.22,\n",
       " 'Madagascar': 1.38,\n",
       " 'Mali': 0.67,\n",
       " 'Pakistan': 0.02,\n",
       " 'Cameroon': 6.36,\n",
       " 'Jamaica': 3.03,\n",
       " 'Malawi': 1.02,\n",
       " 'Netherlands': 10.03,\n",
       " 'Ireland': 11.79,\n",
       " 'Sri Lanka': 0.14,\n",
       " 'Democratic Republic of the Congo': 1.92,\n",
       " 'Bahamas': 12.29,\n",
       " 'Lebanon': 3.94,\n",
       " 'Bulgaria': 11.43,\n",
       " 'Eritrea': 0.29,\n",
       " 'Niger': 0.11,\n",
       " 'Luxembourg': 15.21,\n",
       " 'Indonesia': 0.07,\n",
       " 'Equatorial Guinea': 6.49,\n",
       " \"Democratic People's Republic of Korea\": 3.68,\n",
       " 'Chile': 8.65,\n",
       " 'Central African Republic': 2.52,\n",
       " 'Spain': 13.28,\n",
       " 'Gambia': 1.63,\n",
       " 'Ghana': 1.86,\n",
       " 'Brazil': 5.52,\n",
       " 'Portugal': 15.35,\n",
       " 'Burundi': 8.16,\n",
       " 'Belgium': 11.61,\n",
       " 'Paraguay': 6.51,\n",
       " 'Hungary': 16.29,\n",
       " 'Greece': 10.15,\n",
       " 'India': 1.66,\n",
       " 'Kyrgyzstan': 4.28,\n",
       " 'France': 16.05,\n",
       " 'Zambia': 3.37,\n",
       " 'Israel': 2.03,\n",
       " 'Swaziland': 6.68,\n",
       " 'Canada': 9.0,\n",
       " 'Cambodia': 0.33,\n",
       " 'Cabo Verde': 2.79,\n",
       " 'United Arab Emirates': 4.43,\n",
       " 'Peru': 4.99,\n",
       " 'Solomon Islands': 0.58,\n",
       " 'United Republic of Tanzania': 5.9,\n",
       " 'Chad': 0.3,\n",
       " 'Cuba': 4.37,\n",
       " 'Guyana': 9.94,\n",
       " 'Mongolia': 2.59,\n",
       " 'Australia': 12.09,\n",
       " 'Sao Tome and Principe': 2.57,\n",
       " 'Slovenia': 12.97,\n",
       " 'Benin': 1.38,\n",
       " 'Algeria': 0.4,\n",
       " 'Venezuela (Bolivarian Republic of)': 7.87,\n",
       " 'Ecuador': 2.54,\n",
       " 'Iceland': 5.36,\n",
       " 'Liberia': 5.61,\n",
       " 'Yemen': 0.2,\n",
       " 'Sudan': 0.15,\n",
       " 'Belarus': 7.98,\n",
       " 'Cyprus': 9.29,\n",
       " 'United States of America': 9.16,\n",
       " 'Vanuatu': 1.74,\n",
       " 'Bangladesh': 0.0,\n",
       " 'Philippines': 3.78,\n",
       " 'Slovakia': 12.7,\n",
       " 'Poland': 9.33,\n",
       " 'Senegal': 0.61,\n",
       " 'Honduras': 2.15,\n",
       " 'Bhutan': 0.31,\n",
       " 'Fiji': 1.96,\n",
       " 'Belize': 0.0,\n",
       " 'Lesotho': 2.02,\n",
       " 'Singapore': 1.61,\n",
       " 'Guinea': 0.21,\n",
       " 'Brunei Darussalam': 2.78,\n",
       " 'Congo': 3.15,\n",
       " 'Thailand': 3.92,\n",
       " 'Djibouti': 0.87,\n",
       " 'Gabon': 9.34,\n",
       " 'Dominican Republic': 4.53,\n",
       " 'Morocco': 0.7,\n",
       " 'New Zealand': 11.52,\n",
       " 'Denmark': 11.65,\n",
       " 'Samoa': 2.63,\n",
       " 'Argentina': 10.82,\n",
       " 'Oman': 1.03,\n",
       " 'Kiribati': 0.48,\n",
       " 'Albania': 1.73,\n",
       " 'Nepal': 0.03,\n",
       " 'Malaysia': 0.68,\n",
       " 'Latvia': 7.04,\n",
       " 'Haiti': 5.81,\n",
       " 'South Africa': 9.21,\n",
       " 'Republic of Korea': 9.62,\n",
       " 'Japan': 7.74,\n",
       " 'Mozambique': 0.39,\n",
       " 'Ethiopia': 0.86,\n",
       " 'Panama': 4.6,\n",
       " 'Germany': 14.64,\n",
       " 'Saint Lucia': 11.62,\n",
       " 'Rwanda': 7.55,\n",
       " 'Jordan': 0.19}"
      ]
     },
     "metadata": {},
     "execution_count": 27
    }
   ],
   "source": [
    "def consommationMoyenne(annee):\n",
    "    donnees = pd.read_csv(\"world_alcohol.csv\")\n",
    "    consommation = {}\n",
    "    donneesAnnee = donnees.loc[donnees[\"Year\"] == annee, :]\n",
    "    countries = donnees.Country.unique()\n",
    "    for country in countries:\n",
    "        country_consumption = round(donneesAnnee[donneesAnnee[\"Country\"] == country][\"Display Value\"].fillna(0).sum(), 2)\n",
    "        consommation[country] = country_consumption\n",
    "    return consommation\n",
    "consommationMoyenne(1989)\n"
   ]
  }
 ]
}